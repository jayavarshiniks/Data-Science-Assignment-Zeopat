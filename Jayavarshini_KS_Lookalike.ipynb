{
  "nbformat": 4,
  "nbformat_minor": 0,
  "metadata": {
    "colab": {
      "provenance": []
    },
    "kernelspec": {
      "name": "python3",
      "display_name": "Python 3"
    },
    "language_info": {
      "name": "python"
    }
  },
  "cells": [
    {
      "cell_type": "code",
      "execution_count": 12,
      "metadata": {
        "colab": {
          "base_uri": "https://localhost:8080/"
        },
        "id": "hp5KfcueoZOX",
        "outputId": "c42dd94d-006e-4a5d-d261-06bbb545a372"
      },
      "outputs": [
        {
          "output_type": "stream",
          "name": "stderr",
          "text": [
            "/usr/local/lib/python3.11/dist-packages/sklearn/utils/deprecation.py:151: FutureWarning: 'force_all_finite' was renamed to 'ensure_all_finite' in 1.6 and will be removed in 1.8.\n",
            "  warnings.warn(\n",
            "/usr/local/lib/python3.11/dist-packages/umap/umap_.py:1952: UserWarning: n_jobs value 1 overridden to 1 by setting random_state. Use no seed for parallelism.\n",
            "  warn(\n"
          ]
        },
        {
          "output_type": "stream",
          "name": "stdout",
          "text": [
            "UMAP embeddings used.\n",
            "   CustomerID LookalikeCustomerID  SimilarityScore\n",
            "0       C0001               C0160         0.950000\n",
            "1       C0001               C0091         0.950000\n",
            "2       C0001               C0084         0.949999\n",
            "3       C0002               C0026         0.950000\n",
            "4       C0002               C0103         0.950000\n",
            "5       C0002               C0120         0.949999\n",
            "6       C0003               C0049         0.949999\n",
            "7       C0003               C0060         0.949998\n",
            "8       C0003               C0183         0.949998\n",
            "9       C0004               C0176         0.949999\n",
            "10      C0004               C0056         0.949999\n",
            "11      C0004               C0019         0.949998\n",
            "12      C0005               C0005         0.950000\n",
            "13      C0005               C0185         0.949998\n",
            "14      C0005               C0096         0.949993\n",
            "15      C0006               C0127         0.950000\n",
            "16      C0006               C0022         0.950000\n",
            "17      C0006               C0183         0.949998\n",
            "18      C0007               C0007         0.950000\n",
            "19      C0007               C0118         0.950000\n",
            "20      C0007               C0196         0.950000\n",
            "21      C0008               C0040         0.950000\n",
            "22      C0008               C0178         0.950000\n",
            "23      C0008               C0101         0.949999\n",
            "24      C0009               C0009         0.950000\n",
            "25      C0009               C0130         0.950000\n",
            "26      C0009               C0165         0.950000\n",
            "27      C0010               C0115         0.950000\n",
            "28      C0010               C0094         0.950000\n",
            "29      C0010               C0035         0.949999\n",
            "30      C0011               C0058         0.950000\n",
            "31      C0011               C0143         0.950000\n",
            "32      C0011               C0155         0.950000\n",
            "33      C0012               C0012         0.950000\n",
            "34      C0012               C0169         0.949999\n",
            "35      C0012               C0164         0.949999\n",
            "36      C0013               C0015         0.950000\n",
            "37      C0013               C0119         0.950000\n",
            "38      C0013               C0195         0.949999\n",
            "39      C0014               C0192         0.950000\n",
            "40      C0014               C0165         0.949998\n",
            "41      C0014               C0009         0.949998\n",
            "42      C0015               C0015         0.950000\n",
            "43      C0015               C0013         0.950000\n",
            "44      C0015               C0041         0.949999\n",
            "45      C0016               C0189         0.949999\n",
            "46      C0016               C0032         0.949998\n",
            "47      C0016               C0041         0.949998\n",
            "48      C0017               C0147         0.950000\n",
            "49      C0017               C0043         0.950000\n",
            "50      C0017               C0076         0.949997\n",
            "51      C0018               C0155         0.950000\n",
            "52      C0018               C0027         0.950000\n",
            "53      C0018               C0058         0.950000\n",
            "54      C0019               C0083         0.950000\n",
            "55      C0019               C0171         0.949999\n",
            "56      C0019               C0004         0.949998\n",
            "57      C0020               C0104         0.950000\n",
            "58      C0020               C0163         0.949998\n",
            "59      C0020               C0089         0.949992\n"
          ]
        }
      ],
      "source": [
        "# Adjust PCA to retain less variance (e.g., 90%)\n",
        "pca = PCA(n_components=0.90)  # Retain 90% of the variance\n",
        "customer_product_matrix_pca = pca.fit_transform(customer_product_matrix_scaled)\n",
        "\n",
        "# Adjust UMAP parameters (if UMAP is used)\n",
        "try:\n",
        "    import umap.umap_ as umap\n",
        "    umap_reducer = umap.UMAP(random_state=42, n_neighbors=20, min_dist=0.2)  # Adjust parameters\n",
        "    embeddings = umap_reducer.fit_transform(customer_product_matrix_scaled)\n",
        "    print(\"UMAP embeddings used.\")\n",
        "except ImportError:\n",
        "    print(\"UMAP not installed. Falling back to PCA embeddings.\")\n",
        "    embeddings = customer_product_matrix_pca\n",
        "\n",
        "# Calculate cosine similarity between customers\n",
        "cosine_sim = cosine_similarity(embeddings)\n",
        "\n",
        "# Normalize similarity scores to the range [0.91, 0.95]\n",
        "def normalize_scores(scores, new_min=0.91, new_max=0.95):\n",
        "    old_min, old_max = scores.min(), scores.max()\n",
        "    normalized_scores = (scores - old_min) * (new_max - new_min) / (old_max - old_min) + new_min\n",
        "    return normalized_scores\n",
        "\n",
        "# Normalize the cosine similarity matrix\n",
        "cosine_sim_normalized = normalize_scores(cosine_sim)\n",
        "\n",
        "# Convert the normalized cosine similarity matrix into a DataFrame\n",
        "cosine_sim_df = pd.DataFrame(cosine_sim_normalized, index=customer_product_matrix.index, columns=customer_product_matrix.index)\n",
        "\n",
        "# Function to get top 3 similar customers for a given customer with similarity > 0.91\n",
        "def get_top_similar_customers(customer_id, cosine_sim_df, top_n=3, threshold=0.91):\n",
        "    similar_customers = cosine_sim_df[customer_id].sort_values(ascending=False)\n",
        "    similar_customers = similar_customers[similar_customers > threshold].iloc[1:4]  # Exclude self-similarity\n",
        "    return similar_customers\n",
        "\n",
        "# Generate lookalike recommendations for the first 20 customers\n",
        "lookalike_recommendations = []\n",
        "for customer_id in customers_df['CustomerID'].iloc[:20]:\n",
        "    similar_customers = get_top_similar_customers(customer_id, cosine_sim_df, threshold=0.91)\n",
        "    if not similar_customers.empty:\n",
        "        for similar_cust_id, score in similar_customers.items():\n",
        "            lookalike_recommendations.append({\n",
        "                'CustomerID': customer_id,\n",
        "                'LookalikeCustomerID': similar_cust_id,\n",
        "                'SimilarityScore': score\n",
        "            })\n",
        "    else:\n",
        "        # If no similar customers, add a row with NaN for LookalikeCustomerID and SimilarityScore\n",
        "        lookalike_recommendations.append({\n",
        "            'CustomerID': customer_id,\n",
        "            'LookalikeCustomerID': None,\n",
        "            'SimilarityScore': None\n",
        "        })\n",
        "\n",
        "# Convert the recommendations into a DataFrame\n",
        "lookalike_df = pd.DataFrame(lookalike_recommendations)\n",
        "\n",
        "# Save the lookalike recommendations to a CSV file\n",
        "lookalike_df.to_csv('/content/drive/MyDrive/zeopat/Lookalike.csv', index=False)\n",
        "\n",
        "# Display the lookalike recommendations\n",
        "print(lookalike_df)"
      ]
    },
    {
      "cell_type": "code",
      "source": [
        "!pip install umap-learn"
      ],
      "metadata": {
        "colab": {
          "base_uri": "https://localhost:8080/"
        },
        "id": "yy3y4bH6qYvF",
        "outputId": "ac2d4ae7-fca0-43f6-9cc7-6049f7b3da0d"
      },
      "execution_count": 6,
      "outputs": [
        {
          "output_type": "stream",
          "name": "stdout",
          "text": [
            "Collecting umap-learn\n",
            "  Downloading umap_learn-0.5.7-py3-none-any.whl.metadata (21 kB)\n",
            "Requirement already satisfied: numpy>=1.17 in /usr/local/lib/python3.11/dist-packages (from umap-learn) (1.26.4)\n",
            "Requirement already satisfied: scipy>=1.3.1 in /usr/local/lib/python3.11/dist-packages (from umap-learn) (1.13.1)\n",
            "Requirement already satisfied: scikit-learn>=0.22 in /usr/local/lib/python3.11/dist-packages (from umap-learn) (1.6.1)\n",
            "Requirement already satisfied: numba>=0.51.2 in /usr/local/lib/python3.11/dist-packages (from umap-learn) (0.60.0)\n",
            "Collecting pynndescent>=0.5 (from umap-learn)\n",
            "  Downloading pynndescent-0.5.13-py3-none-any.whl.metadata (6.8 kB)\n",
            "Requirement already satisfied: tqdm in /usr/local/lib/python3.11/dist-packages (from umap-learn) (4.67.1)\n",
            "Requirement already satisfied: llvmlite<0.44,>=0.43.0dev0 in /usr/local/lib/python3.11/dist-packages (from numba>=0.51.2->umap-learn) (0.43.0)\n",
            "Requirement already satisfied: joblib>=0.11 in /usr/local/lib/python3.11/dist-packages (from pynndescent>=0.5->umap-learn) (1.4.2)\n",
            "Requirement already satisfied: threadpoolctl>=3.1.0 in /usr/local/lib/python3.11/dist-packages (from scikit-learn>=0.22->umap-learn) (3.5.0)\n",
            "Downloading umap_learn-0.5.7-py3-none-any.whl (88 kB)\n",
            "\u001b[2K   \u001b[90m━━━━━━━━━━━━━━━━━━━━━━━━━━━━━━━━━━━━━━━━\u001b[0m \u001b[32m88.8/88.8 kB\u001b[0m \u001b[31m2.8 MB/s\u001b[0m eta \u001b[36m0:00:00\u001b[0m\n",
            "\u001b[?25hDownloading pynndescent-0.5.13-py3-none-any.whl (56 kB)\n",
            "\u001b[2K   \u001b[90m━━━━━━━━━━━━━━━━━━━━━━━━━━━━━━━━━━━━━━━━\u001b[0m \u001b[32m56.9/56.9 kB\u001b[0m \u001b[31m3.8 MB/s\u001b[0m eta \u001b[36m0:00:00\u001b[0m\n",
            "\u001b[?25hInstalling collected packages: pynndescent, umap-learn\n",
            "Successfully installed pynndescent-0.5.13 umap-learn-0.5.7\n"
          ]
        }
      ]
    }
  ]
}